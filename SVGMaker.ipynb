{
 "cells": [
  {
   "cell_type": "markdown",
   "metadata": {
    "id": "EqMcpwb9vdl-"
   },
   "source": [
    "# SVG Stripes Background\n",
    "## Goal Image:\n",
    "![Goal](https://media.istockphoto.com/vectors/abstract-seamless-black-dash-lines-diagonal-pattern-on-white-vector-id1278434948)"
   ]
  },
  {
   "cell_type": "code",
   "execution_count": null,
   "metadata": {
    "executionInfo": {
     "elapsed": 3,
     "status": "ok",
     "timestamp": 1654570505076,
     "user": {
      "displayName": "Stanley S",
      "userId": "05133048354859041536"
     },
     "user_tz": 420
    },
    "id": "wJLYaUtHvdmA"
   },
   "outputs": [],
   "source": [
    "from IPython.display import display, HTML\n",
    "import numpy as np\n",
    "import random \n",
    "from scipy.spatial.transform import Rotation as R\n"
   ]
  },
  {
   "cell_type": "code",
   "execution_count": null,
   "metadata": {
    "colab": {
     "base_uri": "https://localhost:8080/",
     "height": 533
    },
    "executionInfo": {
     "elapsed": 471,
     "status": "ok",
     "timestamp": 1654570615210,
     "user": {
      "displayName": "Stanley S",
      "userId": "05133048354859041536"
     },
     "user_tz": 420
    },
    "id": "P3Tp1n_LvdmB",
    "outputId": "c7c37b01-7374-42cc-c5ea-f7522ed6bfe3"
   },
   "outputs": [],
   "source": []
  },
  {
   "cell_type": "code",
   "execution_count": null,
   "metadata": {
    "executionInfo": {
     "elapsed": 253,
     "status": "ok",
     "timestamp": 1654570505327,
     "user": {
      "displayName": "Stanley S",
      "userId": "05133048354859041536"
     },
     "user_tz": 420
    },
    "id": "Wuq7-UUCvdmB"
   },
   "outputs": [],
   "source": [
    "# SVG Writer\n",
    "def writeSvg(content):\n",
    "    header = '<svg width=\"'+str(imgsize[0])+'\" height=\"'+str(imgsize[1])+'\" xmlns=\"http://www.w3.org/2000/svg\">\\n'\n",
    "    footer = '</svg>\\n'\n",
    "    return header+(\"\".join([c.build(1) for c in content]))+footer\n",
    "\n",
    "# Helpers:\n",
    "def buildattr(attrs):\n",
    "    ret = [k+'=\"'+str(attrs[k])+'\"' for k in attrs.keys()]\n",
    "    return ' '.join(ret)\n",
    "\n",
    "# Classes\n",
    "class SVGOBJ:\n",
    "    def __init__(self,name):\n",
    "        self.a = {}\n",
    "        self.name = name\n",
    "    def __str__(self):\n",
    "        return self.build()\n",
    "    def build(self, depth=0):\n",
    "        # When updating, update Group.build as well.\n",
    "        indent = ' '*(2*depth)\n",
    "        header='<'+self.name+' '+buildattr(self.a)\n",
    "        footer='/>\\n'\n",
    "        return indent+header+self.getContentTag()+footer\n",
    "    def attr(self,*ts):\n",
    "        if len(ts)==2 and isinstance(ts[0],str):\n",
    "            ts = [(ts[0],ts[1])]\n",
    "        for t in ts:\n",
    "            self.a[str(t[0])] = str(t[1])\n",
    "        return self\n",
    "    def stroke(self,color):\n",
    "        return self.attr('stroke',color)\n",
    "    def width(self,width):\n",
    "        return self.attr('stroke-width',width)\n",
    "    def fill(self,color):\n",
    "        return self.attr('fill',color)\n",
    "class Group(SVGOBJ):\n",
    "    def __init__(self, children = []):\n",
    "        super().__init__(\"g\")\n",
    "        self.children = children\n",
    "    def getContentTag(self):\n",
    "        return ''\n",
    "    def build(self, depth=0):\n",
    "        # When updating, update SVGOBJ.build as well.\n",
    "        indent = ' '*(2*depth)\n",
    "        header='<'+self.name+' '+buildattr(self.a)+'>\\n'\n",
    "        footer='</'+self.name+'>\\n'\n",
    "        content = \"\".join([a.build(depth+1) for a in self.children])\n",
    "        return indent+header+content+indent+footer\n",
    "    def maskBy(self, mask):\n",
    "        self.attr('mask','url(#'+mask.a[\"id\"]+')')\n",
    "        return self\n",
    "class Rect(SVGOBJ):\n",
    "    def __init__(self, x, y, w, h):\n",
    "        super().__init__(\"rect\")\n",
    "        self.x = x\n",
    "        self.y = y\n",
    "        self.w = w\n",
    "        self.h = h\n",
    "    def getContentTag(self):\n",
    "        return ' '+buildattr({'x':self.x,'y':self.y,'width':self.w,'height':self.h})\n",
    "class Circle(SVGOBJ):\n",
    "    def __init__(self, cx, cy, r):\n",
    "        super().__init__(\"circle\")\n",
    "        self.cx = cx\n",
    "        self.cy = cy\n",
    "        self.r = r\n",
    "    def getContentTag(self):\n",
    "        return ' '+buildattr({'cx':self.cx,'cy':self.cy,'r':self.r})\n",
    "# Path object. Common operators are:\n",
    "#  - Move         ( M x y | m dx dy )\n",
    "#  - Line         ( L x y | l dx dy )\n",
    "#  - Horizontal   ( H x   | h dx    )\n",
    "#  - Vertical     ( V y   | v dy    )\n",
    "#  - Cubic Bezier ( C hx1 hy1 hx2 hy2 x y )\n",
    "#  - Quadr Bezier ( Q hx1 hy1         x y )\n",
    "#  - S (C cont)   ( S         hx2 hy2 x y ) #(hx1,hy1) = prev(2x-hx2,2y-hy2) aka mirror through (x,y) \n",
    "#  - T (Q cont)   ( S                 x y ) #(hx1,hy1) = prev(2x-hx1,2y-hy1) aka mirror through (x,y)\n",
    "#  - Arc ( A rx ry x-axis-rotation large-arc-flag sweep-flag x y )\n",
    "#  - Z (close loop to start)\n",
    "class Path(SVGOBJ):\n",
    "    def __init__(self, x, y):\n",
    "        super().__init__(\"path\")\n",
    "        self.d = [\"M\",str(x),str(y)]\n",
    "    def biop(self,op,*xs):\n",
    "        self.d.append(op)\n",
    "        for x in xs:\n",
    "            self.d.append(str(x))\n",
    "        return self\n",
    "    def getContentTag(self):\n",
    "        return ' d=\"'+(' '.join(self.d))+'\"'\n",
    "    def round(self):\n",
    "        return self.attr('stroke-linecap',\"round\")\n",
    "class Mask(Group):\n",
    "    def __init__(self, id, children = []):\n",
    "        super().__init__(children)\n",
    "        self.name = \"mask\"\n",
    "        self.attr('id',id)"
   ]
  },
  {
   "cell_type": "code",
   "execution_count": null,
   "metadata": {
    "executionInfo": {
     "elapsed": 4,
     "status": "ok",
     "timestamp": 1654570505328,
     "user": {
      "displayName": "Stanley S",
      "userId": "05133048354859041536"
     },
     "user_tz": 420
    },
    "id": "6B36Q3e2vdmE"
   },
   "outputs": [],
   "source": [
    "def get_size(u,l):\n",
    "    t = random.random()**0.5\n",
    "    return t*u+l*(1-t)\n",
    "\n",
    "def generate_background():\n",
    "    return Rect(0,0,imgsize[0],imgsize[1]).fill(\"#f0d981\").stroke(\"#000\").width(2)"
   ]
  },
  {
   "cell_type": "code",
   "execution_count": null,
   "metadata": {
    "executionInfo": {
     "elapsed": 3,
     "status": "ok",
     "timestamp": 1654570505328,
     "user": {
      "displayName": "Stanley S",
      "userId": "05133048354859041536"
     },
     "user_tz": 420
    },
    "id": "2LgTTTwj7iJc"
   },
   "outputs": [],
   "source": [
    "def matToTransform(size):\n",
    "    t1 = np.matrix([[1,0,-size/2],[0,1,-size/2],[0,0,1]])\n",
    "    rot = R.from_euler('z', angle, degrees=True).as_matrix()\n",
    "    t2 = np.matrix([[1,0,imgsize[0]/2],[0,1,imgsize[1]/2],[0,0,1]])\n",
    "    rmat = t2*rot*t1\n",
    "    return \"matrix(\" +(\" \".join([str(a) for a in np.array(rmat[0:2,:].transpose().flatten())[0]]))+\")\"\n"
   ]
  },
  {
   "cell_type": "code",
   "execution_count": null,
   "metadata": {
    "executionInfo": {
     "elapsed": 4,
     "status": "ok",
     "timestamp": 1654570505329,
     "user": {
      "displayName": "Stanley S",
      "userId": "05133048354859041536"
     },
     "user_tz": 420
    },
    "id": "YMfxPrg1vdmD"
   },
   "outputs": [],
   "source": [
    "def buildWhole():\n",
    "    size = np.sqrt(imgsize[0]**2 + imgsize[1]**2)\n",
    "    size\n",
    "\n",
    "    # keep track of the y coordinate \n",
    "    loc_y = 0 \n",
    "    ps = []\n",
    "    while(loc_y < size): \n",
    "        line_width = get_size(widths[0],widths[1]) \n",
    "        loc_y += spacing/2 + line_width/2\n",
    "        # keep track of the x coordinate , start at an offset\n",
    "        loc_x = -size/2\n",
    "        p = Path(loc_y,0)\n",
    "        # randomly pick the width of the line\n",
    "        p.width(str(line_width)).stroke(\"#f7f4e9\").round().fill(\"None\")\n",
    "        # print(loc_y)\n",
    "        while (loc_x < size):\n",
    "            # draw a line of random size\n",
    "            line_length = get_size(lengths[0], lengths[1])\n",
    "            p.biop('v', line_length)\n",
    "            # skip a gap of random size\n",
    "            gap_length = get_size(gaps[0], gaps[1]) + float(p.a[\"stroke-width\"])\n",
    "            p.biop('m', 0, gap_length)\n",
    "            # update x coordinate \n",
    "            loc_x += line_length +gap_length\n",
    "        # update y coordinate\n",
    "        loc_y += spacing/2 + line_width/2\n",
    "        ps.append(p)\n",
    "\n",
    "    m = Mask(\"boundingbox\",[Rect(10,10,imgsize[0]-20,imgsize[1]-20).fill(\"#fff\")])\n",
    "\n",
    "    g = Group([Group(ps).attr(\"transform\",matToTransform(size))]).maskBy(m)\n",
    "\n",
    "\n",
    "    o = writeSvg([generate_background(), m, g])\n",
    "    # print(o)\n",
    "    display(HTML(o))\n",
    "\n",
    "    with open('out.svg','w', encoding=\"utf8\") as f:\n",
    "        # Write the CSV header (column names seperated with a comma)\n",
    "        f.write(o)\n"
   ]
  },
  {
   "cell_type": "code",
   "execution_count": null,
   "metadata": {
    "executionInfo": {
     "elapsed": 1,
     "status": "ok",
     "timestamp": 1654570505489,
     "user": {
      "displayName": "Stanley S",
      "userId": "05133048354859041536"
     },
     "user_tz": 420
    },
    "id": "z35I8eYgvdmF"
   },
   "outputs": [],
   "source": [
    "imgsize = (768,768)\n",
    "widths = (1.5,8)\n",
    "lengths = (8,500)\n",
    "gaps = (50,150)\n",
    "spacing = 10\n",
    "angle = 40\n",
    "\n",
    "buildWhole()"
   ]
  },
  {
   "cell_type": "code",
   "execution_count": null,
   "metadata": {},
   "outputs": [],
   "source": []
  }
 ],
 "metadata": {
  "colab": {
   "collapsed_sections": [],
   "name": "SVGMaker.ipynb",
   "provenance": []
  },
  "kernelspec": {
   "display_name": "Python 3 (ipykernel)",
   "language": "python",
   "name": "python3"
  },
  "language_info": {
   "codemirror_mode": {
    "name": "ipython",
    "version": 3
   },
   "file_extension": ".py",
   "mimetype": "text/x-python",
   "name": "python",
   "nbconvert_exporter": "python",
   "pygments_lexer": "ipython3",
   "version": "3.8.13"
  }
 },
 "nbformat": 4,
 "nbformat_minor": 1
}
